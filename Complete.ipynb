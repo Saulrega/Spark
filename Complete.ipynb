{
  "nbformat": 4,
  "nbformat_minor": 0,
  "metadata": {
    "colab": {
      "name": "Complete.ipynb",
      "provenance": [],
      "collapsed_sections": [],
      "authorship_tag": "ABX9TyNjPGtVSCA9KKzUiTzW5Bpq",
      "include_colab_link": true
    },
    "kernelspec": {
      "name": "python3",
      "display_name": "Python 3"
    },
    "language_info": {
      "name": "python"
    }
  },
  "cells": [
    {
      "cell_type": "markdown",
      "metadata": {
        "id": "view-in-github",
        "colab_type": "text"
      },
      "source": [
        "<a href=\"https://colab.research.google.com/github/Saulrega/Spark/blob/main/Complete.ipynb\" target=\"_parent\"><img src=\"https://colab.research.google.com/assets/colab-badge.svg\" alt=\"Open In Colab\"/></a>"
      ]
    },
    {
      "cell_type": "code",
      "execution_count": null,
      "metadata": {
        "id": "NQ9ajIOhbJkY"
      },
      "outputs": [],
      "source": [
        "# install Java8\n",
        "!apt-get install openjdk-8-jdk-headless -qq > /dev/null\n",
        "# download spark3.0.0\n",
        "!wget -q https://dlcdn.apache.org/spark/spark-3.1.3/spark-3.1.3-bin-hadoop3.2.tgz\n",
        "# unzip it\n",
        "!tar xf spark-3.1.3-bin-hadoop3.2.tgz\n",
        "# install findspark \n",
        "!pip install -q findspark"
      ]
    },
    {
      "cell_type": "code",
      "source": [
        "import os\n",
        "os.environ[\"JAVA_HOME\"] = \"/usr/lib/jvm/java-8-openjdk-amd64\"\n",
        "os.environ[\"SPARK_HOME\"] = \"/content/spark-3.1.3-bin-hadoop3.2\""
      ],
      "metadata": {
        "id": "lq_3iI9sbRKZ"
      },
      "execution_count": null,
      "outputs": []
    },
    {
      "cell_type": "code",
      "source": [
        "import findspark\n",
        "findspark.init()"
      ],
      "metadata": {
        "id": "Hc4bE0XjbRP5"
      },
      "execution_count": null,
      "outputs": []
    },
    {
      "cell_type": "markdown",
      "source": [
        "## Sample"
      ],
      "metadata": {
        "id": "z2NbzT0rbRUJ"
      }
    },
    {
      "cell_type": "code",
      "source": [
        "from pyspark.sql import SparkSession\n",
        "spark = SparkSession.builder.master(\"local[*]\").getOrCreate()\n",
        "\n",
        "spark"
      ],
      "metadata": {
        "id": "j6alC54ObRXa",
        "colab": {
          "base_uri": "https://localhost:8080/",
          "height": 219
        },
        "outputId": "62602af4-2977-4291-f94f-fdd147ef86bc"
      },
      "execution_count": null,
      "outputs": [
        {
          "output_type": "execute_result",
          "data": {
            "text/plain": [
              "<pyspark.sql.session.SparkSession at 0x7f7b7054d890>"
            ],
            "text/html": [
              "\n",
              "            <div>\n",
              "                <p><b>SparkSession - in-memory</b></p>\n",
              "                \n",
              "        <div>\n",
              "            <p><b>SparkContext</b></p>\n",
              "\n",
              "            <p><a href=\"http://15f92d90e00c:4040\">Spark UI</a></p>\n",
              "\n",
              "            <dl>\n",
              "              <dt>Version</dt>\n",
              "                <dd><code>v3.1.3</code></dd>\n",
              "              <dt>Master</dt>\n",
              "                <dd><code>local[*]</code></dd>\n",
              "              <dt>AppName</dt>\n",
              "                <dd><code>pyspark-shell</code></dd>\n",
              "            </dl>\n",
              "        </div>\n",
              "        \n",
              "            </div>\n",
              "        "
            ]
          },
          "metadata": {},
          "execution_count": 4
        }
      ]
    },
    {
      "cell_type": "code",
      "source": [
        "spark.stop()"
      ],
      "metadata": {
        "id": "G31UwZLlDdvj"
      },
      "execution_count": null,
      "outputs": []
    },
    {
      "cell_type": "markdown",
      "source": [
        "## Transformations"
      ],
      "metadata": {
        "id": "OU32cHhGbRap"
      }
    },
    {
      "cell_type": "code",
      "source": [
        "from pyspark import SparkContext"
      ],
      "metadata": {
        "id": "GHwA8ZeHbRd6"
      },
      "execution_count": null,
      "outputs": []
    },
    {
      "cell_type": "code",
      "source": [
        "# Create a initialator\n",
        "sc = SparkContext(master='local', appName=\"transformacionesYAcciones\")"
      ],
      "metadata": {
        "id": "U5_jS3CvbRhZ"
      },
      "execution_count": null,
      "outputs": []
    },
    {
      "cell_type": "code",
      "source": [
        "# run drive in the colab\n",
        "from google.colab import drive\n",
        "drive.mount('/content/drive/')"
      ],
      "metadata": {
        "id": "hRkJhXSobRka",
        "colab": {
          "base_uri": "https://localhost:8080/"
        },
        "outputId": "e053226e-d6b7-4f75-9d75-38a4e08fb2ae"
      },
      "execution_count": null,
      "outputs": [
        {
          "output_type": "stream",
          "name": "stdout",
          "text": [
            "Drive already mounted at /content/drive/; to attempt to forcibly remount, call drive.mount(\"/content/drive/\", force_remount=True).\n"
          ]
        }
      ]
    },
    {
      "cell_type": "code",
      "source": [
        "# Read dataset\n",
        "%cd '/content/drive/My Drive/Colab Notebooks/Spark/files'"
      ],
      "metadata": {
        "id": "GPr6EpdHbRnq",
        "colab": {
          "base_uri": "https://localhost:8080/"
        },
        "outputId": "9d266a00-6201-433f-a3eb-525188acbeba"
      },
      "execution_count": null,
      "outputs": [
        {
          "output_type": "stream",
          "name": "stdout",
          "text": [
            "/content/drive/My Drive/Colab Notebooks/Spark/files\n"
          ]
        }
      ]
    },
    {
      "cell_type": "code",
      "source": [
        "# Create a read distribuited data \n",
        "rdd1 = sc.parallelize([1,2,3])\n",
        "type(rdd1)"
      ],
      "metadata": {
        "id": "yajm1KG9bRrJ",
        "colab": {
          "base_uri": "https://localhost:8080/"
        },
        "outputId": "0085f54c-cbac-4e20-8d6e-32381bfa6cce"
      },
      "execution_count": null,
      "outputs": [
        {
          "output_type": "execute_result",
          "data": {
            "text/plain": [
              "pyspark.rdd.RDD"
            ]
          },
          "metadata": {},
          "execution_count": 25
        }
      ]
    },
    {
      "cell_type": "code",
      "source": [
        "!ls"
      ],
      "metadata": {
        "id": "Ctw7_S-8bRua",
        "colab": {
          "base_uri": "https://localhost:8080/"
        },
        "outputId": "1ba68107-2c23-44b5-dabc-eed62390976b"
      },
      "execution_count": null,
      "outputs": [
        {
          "output_type": "stream",
          "name": "stdout",
          "text": [
            "deporte.csv\t deportistaError.csv  modelo_relacional.jpg\n",
            "deportista2.csv  evento.csv\t      paises.csv\n",
            "deportista.csv\t juegos.csv\t      resultados.csv\n"
          ]
        }
      ]
    },
    {
      "cell_type": "code",
      "source": [
        "# load rdd\n",
        "path = '/content/drive/My Drive/Colab Notebooks/Spark/files/'\n",
        "equiposOlimpicosRDD = sc.textFile(path+'paises.csv').map(lambda line: line.split(','))"
      ],
      "metadata": {
        "id": "Hoxos6d4bRxr"
      },
      "execution_count": null,
      "outputs": []
    },
    {
      "cell_type": "code",
      "source": [
        "# Visaulize rdd\n",
        "rdd1.collect()"
      ],
      "metadata": {
        "id": "P43FA-6abR06",
        "colab": {
          "base_uri": "https://localhost:8080/"
        },
        "outputId": "73d28fb5-bbaa-42ac-e0fb-7697afa23efd"
      },
      "execution_count": null,
      "outputs": [
        {
          "output_type": "execute_result",
          "data": {
            "text/plain": [
              "[1, 2, 3]"
            ]
          },
          "metadata": {},
          "execution_count": 28
        }
      ]
    },
    {
      "cell_type": "code",
      "source": [
        "# Show context of Spark\n",
        "sc"
      ],
      "metadata": {
        "id": "R5hYEf21bR4J",
        "colab": {
          "base_uri": "https://localhost:8080/",
          "height": 196
        },
        "outputId": "19c57c55-6f61-48ff-8f77-d2054a0c80a0"
      },
      "execution_count": null,
      "outputs": [
        {
          "output_type": "execute_result",
          "data": {
            "text/plain": [
              "<SparkContext master=local appName=transformacionesYAcciones>"
            ],
            "text/html": [
              "\n",
              "        <div>\n",
              "            <p><b>SparkContext</b></p>\n",
              "\n",
              "            <p><a href=\"http://15f92d90e00c:4040\">Spark UI</a></p>\n",
              "\n",
              "            <dl>\n",
              "              <dt>Version</dt>\n",
              "                <dd><code>v3.1.3</code></dd>\n",
              "              <dt>Master</dt>\n",
              "                <dd><code>local</code></dd>\n",
              "              <dt>AppName</dt>\n",
              "                <dd><code>transformacionesYAcciones</code></dd>\n",
              "            </dl>\n",
              "        </div>\n",
              "        "
            ]
          },
          "metadata": {},
          "execution_count": 29
        }
      ]
    },
    {
      "cell_type": "code",
      "source": [
        "# Read first 5 rows\n",
        "equiposOlimpicosRDD.take(5)"
      ],
      "metadata": {
        "id": "5zUg_bgkbR76",
        "colab": {
          "base_uri": "https://localhost:8080/"
        },
        "outputId": "41b2f332-1cff-4b6b-d74e-62dc8d920386"
      },
      "execution_count": null,
      "outputs": [
        {
          "output_type": "execute_result",
          "data": {
            "text/plain": [
              "[['id', 'equipo', 'sigla'],\n",
              " ['1', '30. Februar', 'AUT'],\n",
              " ['2', 'A North American Team', 'MEX'],\n",
              " ['3', 'Acipactli', 'MEX'],\n",
              " ['4', 'Acturus', 'ARG']]"
            ]
          },
          "metadata": {},
          "execution_count": 30
        }
      ]
    },
    {
      "cell_type": "code",
      "source": [
        "# Stop the memory\n",
        "# sc.stop()"
      ],
      "metadata": {
        "id": "L4Nh0pctbR_J"
      },
      "execution_count": null,
      "outputs": []
    },
    {
      "cell_type": "markdown",
      "source": [
        "## Actions"
      ],
      "metadata": {
        "id": "wWALIRQtbSCa"
      }
    },
    {
      "cell_type": "code",
      "source": [
        "# Read first 15 rows\n",
        "equiposOlimpicosRDD.take(15)"
      ],
      "metadata": {
        "id": "TreKuYFZdbO2",
        "colab": {
          "base_uri": "https://localhost:8080/"
        },
        "outputId": "65677d79-fe1b-43de-c8d1-5621dd8d5ad4"
      },
      "execution_count": null,
      "outputs": [
        {
          "output_type": "execute_result",
          "data": {
            "text/plain": [
              "[['id', 'equipo', 'sigla'],\n",
              " ['1', '30. Februar', 'AUT'],\n",
              " ['2', 'A North American Team', 'MEX'],\n",
              " ['3', 'Acipactli', 'MEX'],\n",
              " ['4', 'Acturus', 'ARG'],\n",
              " ['5', 'Afghanistan', 'AFG'],\n",
              " ['6', 'Akatonbo', 'IRL'],\n",
              " ['7', 'Alain IV', 'SUI'],\n",
              " ['8', 'Albania', 'ALB'],\n",
              " ['9', 'Alcaid', 'POR'],\n",
              " ['10', 'Alcyon-6', 'FRA'],\n",
              " ['11', 'Alcyon-7', 'FRA'],\n",
              " ['12', 'Aldebaran', 'ITA'],\n",
              " ['13', 'Aldebaran II', 'ITA'],\n",
              " ['14', 'Aletta', 'IRL']]"
            ]
          },
          "metadata": {},
          "execution_count": 32
        }
      ]
    },
    {
      "cell_type": "code",
      "source": [
        "# count number of rows\n",
        "equiposOlimpicosRDD.map(lambda x: x[2]).distinct().count()"
      ],
      "metadata": {
        "id": "m8yk57pSdbSo",
        "colab": {
          "base_uri": "https://localhost:8080/"
        },
        "outputId": "e6e1b418-31b2-49ef-ad7d-04afd7cdc9d9"
      },
      "execution_count": null,
      "outputs": [
        {
          "output_type": "execute_result",
          "data": {
            "text/plain": [
              "231"
            ]
          },
          "metadata": {},
          "execution_count": 33
        }
      ]
    },
    {
      "cell_type": "code",
      "source": [
        "# group by teams for country\n",
        "equiposOlimpicosRDD.map(lambda x: (x[2],x[1])).groupByKey().mapValues(len).take(5)"
      ],
      "metadata": {
        "id": "kR03dty8dbV1",
        "colab": {
          "base_uri": "https://localhost:8080/"
        },
        "outputId": "4aaf189c-4bb9-421e-e4b8-5e6b65ab72dd"
      },
      "execution_count": null,
      "outputs": [
        {
          "output_type": "execute_result",
          "data": {
            "text/plain": [
              "[('sigla', 1), ('AUT', 11), ('MEX', 9), ('ARG', 18), ('AFG', 1)]"
            ]
          },
          "metadata": {},
          "execution_count": 34
        }
      ]
    },
    {
      "cell_type": "code",
      "source": [
        "# diference with 'list' in stead of 'len'\n",
        "equiposOlimpicosRDD.map(lambda x: (x[2],x[1])).groupByKey().mapValues(list).take(5)"
      ],
      "metadata": {
        "id": "Ap_60dqRdbZF",
        "colab": {
          "base_uri": "https://localhost:8080/"
        },
        "outputId": "b5a3b322-afbf-40df-db6f-9a22f1648811"
      },
      "execution_count": null,
      "outputs": [
        {
          "output_type": "execute_result",
          "data": {
            "text/plain": [
              "[('sigla', ['equipo']),\n",
              " ('AUT',\n",
              "  ['30. Februar',\n",
              "   'Austria',\n",
              "   'Austria-1',\n",
              "   'Austria-2',\n",
              "   'Breslau',\n",
              "   'Brigantia',\n",
              "   'Donar III',\n",
              "   'Evita VI',\n",
              "   'May-Be 1960',\n",
              "   '\"R.-V. Germania; Leitmeritz\"',\n",
              "   'Surprise']),\n",
              " ('MEX',\n",
              "  ['A North American Team',\n",
              "   'Acipactli',\n",
              "   'Chamukina',\n",
              "   'Mexico',\n",
              "   'Mexico-1',\n",
              "   'Mexico-2',\n",
              "   'Nausikaa 4',\n",
              "   'Tlaloc',\n",
              "   'Xolotl']),\n",
              " ('ARG',\n",
              "  ['Acturus',\n",
              "   'Antares',\n",
              "   'Arcturus',\n",
              "   'Ardilla',\n",
              "   'Argentina',\n",
              "   'Argentina-1',\n",
              "   'Argentina-2',\n",
              "   'Blue Red',\n",
              "   'Covunco III',\n",
              "   'Cupidon III',\n",
              "   'Djinn',\n",
              "   'Gullvinge',\n",
              "   'Matrero II',\n",
              "   'Mizar',\n",
              "   'Pampero',\n",
              "   'Rampage',\n",
              "   'Tango',\n",
              "   'Wiking']),\n",
              " ('AFG', ['Afghanistan'])]"
            ]
          },
          "metadata": {},
          "execution_count": 35
        }
      ]
    },
    {
      "cell_type": "code",
      "source": [
        "# createa filter to Argentina values\n",
        "equiposArgentinos = equiposOlimpicosRDD.filter(lambda x: 'ARG' in x)\n",
        "equiposArgentinos.collect()"
      ],
      "metadata": {
        "id": "I3KVGRepdbcW",
        "colab": {
          "base_uri": "https://localhost:8080/"
        },
        "outputId": "5679ad53-2f77-4f8f-cd60-f90ef599e44d"
      },
      "execution_count": null,
      "outputs": [
        {
          "output_type": "execute_result",
          "data": {
            "text/plain": [
              "[['4', 'Acturus', 'ARG'],\n",
              " ['37', 'Antares', 'ARG'],\n",
              " ['42', 'Arcturus', 'ARG'],\n",
              " ['43', 'Ardilla', 'ARG'],\n",
              " ['45', 'Argentina', 'ARG'],\n",
              " ['46', 'Argentina-1', 'ARG'],\n",
              " ['47', 'Argentina-2', 'ARG'],\n",
              " ['119', 'Blue Red', 'ARG'],\n",
              " ['238', 'Covunco III', 'ARG'],\n",
              " ['252', 'Cupidon III', 'ARG'],\n",
              " ['288', 'Djinn', 'ARG'],\n",
              " ['436', 'Gullvinge', 'ARG'],\n",
              " ['644', 'Matrero II', 'ARG'],\n",
              " ['672', 'Mizar', 'ARG'],\n",
              " ['774', 'Pampero', 'ARG'],\n",
              " ['843', 'Rampage', 'ARG'],\n",
              " ['1031', 'Tango', 'ARG'],\n",
              " ['1162', 'Wiking', 'ARG']]"
            ]
          },
          "metadata": {},
          "execution_count": 36
        }
      ]
    },
    {
      "cell_type": "code",
      "source": [
        "# count Aprox is a count of data, rows or columns in a dataframe wit a time limit counting in miliseconds\n",
        "equiposOlimpicosRDD.countApprox(10)"
      ],
      "metadata": {
        "id": "U9pIlGMIdbfl",
        "colab": {
          "base_uri": "https://localhost:8080/"
        },
        "outputId": "0cdffeee-322f-4798-9042-2e00445ee9bd"
      },
      "execution_count": null,
      "outputs": [
        {
          "output_type": "execute_result",
          "data": {
            "text/plain": [
              "1185"
            ]
          },
          "metadata": {},
          "execution_count": 37
        }
      ]
    },
    {
      "cell_type": "code",
      "source": [
        "equiposOlimpicosRDD.count()"
      ],
      "metadata": {
        "id": "5uR60ourdbjH",
        "colab": {
          "base_uri": "https://localhost:8080/"
        },
        "outputId": "8cffa200-0a5b-4644-a8ac-f441ee314dba"
      },
      "execution_count": null,
      "outputs": [
        {
          "output_type": "execute_result",
          "data": {
            "text/plain": [
              "1185"
            ]
          },
          "metadata": {},
          "execution_count": 38
        }
      ]
    },
    {
      "cell_type": "code",
      "source": [
        "# read and join\n",
        "deportistaOlimpicoRDD = sc.textFile(path+'deportista.csv').map(lambda line: line.split(','))\n",
        "deportistaOlimpicoRDD2 = sc.textFile(path+'deportista2.csv').map(lambda line: line.split(','))\n",
        "deportistaOlimpicoRDD = deportistaOlimpicoRDD.union(deportistaOlimpicoRDD2)"
      ],
      "metadata": {
        "id": "HQSMVla986Fa"
      },
      "execution_count": null,
      "outputs": []
    },
    {
      "cell_type": "code",
      "source": [
        "# count athletes\n",
        "deportistaOlimpicoRDD.count()"
      ],
      "metadata": {
        "id": "_Bvmiu3YdbmV",
        "colab": {
          "base_uri": "https://localhost:8080/"
        },
        "outputId": "f1168856-ad0b-41e9-9d64-bab91f0f0631"
      },
      "execution_count": null,
      "outputs": [
        {
          "output_type": "execute_result",
          "data": {
            "text/plain": [
              "135572"
            ]
          },
          "metadata": {},
          "execution_count": 40
        }
      ]
    },
    {
      "cell_type": "code",
      "source": [
        "# show top rows\n",
        "equiposOlimpicosRDD.top(5)"
      ],
      "metadata": {
        "id": "SBcCzvkRdbp3",
        "colab": {
          "base_uri": "https://localhost:8080/"
        },
        "outputId": "10b61752-3d5d-4c19-db8c-5b681ad334fb"
      },
      "execution_count": null,
      "outputs": [
        {
          "output_type": "execute_result",
          "data": {
            "text/plain": [
              "[['id', 'equipo', 'sigla'],\n",
              " ['999', 'Stella-2', 'NOR'],\n",
              " ['998', 'State VI', 'CAN'],\n",
              " ['997', 'Starlight III', 'GBR'],\n",
              " ['996', 'Starita', 'NED']]"
            ]
          },
          "metadata": {},
          "execution_count": 41
        }
      ]
    },
    {
      "cell_type": "code",
      "source": [
        "deportistaOlimpicoRDD.top(5)"
      ],
      "metadata": {
        "id": "5u90MMjWdbtV",
        "colab": {
          "base_uri": "https://localhost:8080/"
        },
        "outputId": "dcbe3ad5-bfac-4a8b-c88f-886bc93e3276"
      },
      "execution_count": null,
      "outputs": [
        {
          "output_type": "execute_result",
          "data": {
            "text/plain": [
              "[['deportista_id', 'nombre', 'genero', 'edad', 'altura', 'peso', 'equipo_id'],\n",
              " ['99999', 'Alexander Grant Alick Rennie', '1', '32', '182', '71', '967'],\n",
              " ['99998', 'Robert John Bob Renney', '1', '21', '178', '90', '66'],\n",
              " ['99997', 'Thomas Renner', '1', '24', '183', '86', '71'],\n",
              " ['99996', 'Sara Renner', '2', '21', '168', '63', '174']]"
            ]
          },
          "metadata": {},
          "execution_count": 42
        }
      ]
    },
    {
      "cell_type": "code",
      "source": [
        "# read 'resultados.csv'\n",
        "resultado = sc.textFile(path+'resultados.csv').map(lambda x: x.split(','))\n",
        "resultado.top(5)"
      ],
      "metadata": {
        "id": "4PRCYQPwdbw1",
        "colab": {
          "base_uri": "https://localhost:8080/"
        },
        "outputId": "ad46b233-ba61-4ce2-e63d-13192efcfd08"
      },
      "execution_count": null,
      "outputs": [
        {
          "output_type": "execute_result",
          "data": {
            "text/plain": [
              "[['resultado_id', 'medalla', 'deportista_id', 'juego_id', 'evento_id'],\n",
              " ['99999', 'NA', '50604', '51', '568'],\n",
              " ['99998', 'NA', '50603', '47', '36'],\n",
              " ['99997', 'NA', '50602', '49', '262'],\n",
              " ['99996', 'NA', '50601', '47', '614']]"
            ]
          },
          "metadata": {},
          "execution_count": 44
        }
      ]
    },
    {
      "cell_type": "code",
      "source": [
        "# drop NA values that are people without medals\n",
        "resultadoGanador = resultado.filter(lambda l: 'NA' not in l[1])\n",
        "resultadoGanador.take(5)"
      ],
      "metadata": {
        "id": "7Y1IH9OGdb0F",
        "colab": {
          "base_uri": "https://localhost:8080/"
        },
        "outputId": "a011cfc8-a9c6-4983-f28b-81860357fc55"
      },
      "execution_count": null,
      "outputs": [
        {
          "output_type": "execute_result",
          "data": {
            "text/plain": [
              "[['resultado_id', 'medalla', 'deportista_id', 'juego_id', 'evento_id'],\n",
              " ['4', 'Gold', '4', '2', '4'],\n",
              " ['38', 'Bronze', '15', '7', '19'],\n",
              " ['39', 'Bronze', '15', '7', '20'],\n",
              " ['41', 'Bronze', '16', '50', '14']]"
            ]
          },
          "metadata": {},
          "execution_count": 45
        }
      ]
    },
    {
      "cell_type": "code",
      "source": [
        "# join 3 RDDs \"equipos\", \"deportistas\" and \"resultados\"\n",
        "\n",
        "equiposYDeportistas = deportistaOlimpicoRDD.map(lambda l: [l[-1],l[:-1]]).join(equiposOlimpicosRDD.map(lambda x: [x[0], x[2]])).join(resultadoGanador.map(lambda y: [y[2], y[1]]))\n",
        "equiposYDeportistas.takeSample(False,6,25)"
      ],
      "metadata": {
        "id": "AC9US7Dhdb3V",
        "colab": {
          "base_uri": "https://localhost:8080/"
        },
        "outputId": "d6a0c033-f7d9-4520-d31a-8ff89023a290"
      },
      "execution_count": null,
      "outputs": [
        {
          "output_type": "execute_result",
          "data": {
            "text/plain": [
              "[('507',\n",
              "  ((['18909', 'Enrico Castelli', '1', '27', '0', '0'], 'ITA'), 'Silver')),\n",
              " ('705',\n",
              "  ((['99600', 'John Philip Ernest Marie Flip Regout', '1', '21', '0', '0'],\n",
              "    'NED'),\n",
              "   'Silver')),\n",
              " ('399',\n",
              "  ((['15937', 'Magdalena Brzeska Peschel Sabolocka ', '2', '18', '173', '48'],\n",
              "    'GER'),\n",
              "   'Silver')),\n",
              " ('705',\n",
              "  ((['13408',\n",
              "     'Anna Johanna Geertruida Maria Annie Borckink',\n",
              "     '2',\n",
              "     '24',\n",
              "     '0',\n",
              "     '0'],\n",
              "    'NED'),\n",
              "   'Bronze')),\n",
              " ('705',\n",
              "  ((['48310', 'Johannes Hendricus Heuckelbach', '1', '27', '0', '0'], 'NED'),\n",
              "   'Gold')),\n",
              " ('619',\n",
              "  ((['59062', 'Noraseela Mohd Khalid', '2', '32', '166', '55'], 'MAS'),\n",
              "   'Gold'))]"
            ]
          },
          "metadata": {},
          "execution_count": 46
        }
      ]
    },
    {
      "cell_type": "code",
      "source": [
        "deportistaPaises = deportistaOlimpicoRDD.map(lambda x: [x[-1], x[:-1]]).join(equiposOlimpicosRDD.map(lambda x: [x[0], x[2]]))"
      ],
      "metadata": {
        "id": "W_K4lQE2CfKE"
      },
      "execution_count": null,
      "outputs": []
    },
    {
      "cell_type": "code",
      "source": [
        "deportistaPaises.join(resultadoGanador).take(5)"
      ],
      "metadata": {
        "id": "N6K3nRT4Fsa8",
        "colab": {
          "base_uri": "https://localhost:8080/"
        },
        "outputId": "4acba980-613e-4725-c604-d97a8bbc16d9"
      },
      "execution_count": null,
      "outputs": [
        {
          "output_type": "execute_result",
          "data": {
            "text/plain": [
              "[('74',\n",
              "  ((['65', 'Patimat Abakarova', '2', '21', '165', '49'], 'AZE'), 'Gold')),\n",
              " ('74', ((['129', 'Ruslan Abbasov', '1', '22', '181', '74'], 'AZE'), 'Gold')),\n",
              " ('74', ((['130', 'Tural Abbasov', '1', '18', '182', '76'], 'AZE'), 'Gold')),\n",
              " ('74', ((['131', 'Tran Abbasova', '2', '33', '159', '53'], 'AZE'), 'Gold')),\n",
              " ('74',\n",
              "  ((['335', 'Abdulqdir Abdullayev', '1', '28', '188', '91'], 'AZE'), 'Gold'))]"
            ]
          },
          "metadata": {},
          "execution_count": 51
        }
      ]
    },
    {
      "cell_type": "markdown",
      "source": [
        "## Number Operations"
      ],
      "metadata": {
        "id": "4VXZ-z7OfBsN"
      }
    },
    {
      "cell_type": "code",
      "source": [
        "# save medal values according to international commission of olimpic games\n",
        "valoresMedallas = {'Gold': 7,\n",
        "                   'Silver': 5,\n",
        "                   'Bronze': 4}"
      ],
      "metadata": {
        "id": "veAUfy49fBvV"
      },
      "execution_count": null,
      "outputs": []
    },
    {
      "cell_type": "code",
      "source": [
        "paisesMedallas = deportistaPaises.join(resultadoGanador)"
      ],
      "metadata": {
        "id": "8QLbTJSNF78r"
      },
      "execution_count": null,
      "outputs": []
    },
    {
      "cell_type": "code",
      "source": [
        "# asing medal values  to RDD\n",
        "paisesMedallas = paisesMedallas.map(lambda x: (x[1][0][-1], valoresMedallas[x[1][1]]))"
      ],
      "metadata": {
        "id": "JYJbaPPtfBy2"
      },
      "execution_count": null,
      "outputs": []
    },
    {
      "cell_type": "code",
      "source": [
        "# import operator library\n",
        "from operator import add"
      ],
      "metadata": {
        "id": "p1V1o_SUfB2k"
      },
      "execution_count": null,
      "outputs": []
    },
    {
      "cell_type": "code",
      "source": [
        "# sum country by medal\n",
        "conclusion = paisesMedallas.reduceByKey((add)).sortBy(lambda x: x[1], ascending=False)"
      ],
      "metadata": {
        "id": "pS1DBsl7fB5p"
      },
      "execution_count": null,
      "outputs": []
    },
    {
      "cell_type": "code",
      "source": [
        "conclusion.take(10)"
      ],
      "metadata": {
        "id": "b2CuXdvMfB80",
        "colab": {
          "base_uri": "https://localhost:8080/"
        },
        "outputId": "86e5f1d7-634f-4b2c-ac70-39467b4814d3"
      },
      "execution_count": null,
      "outputs": [
        {
          "output_type": "execute_result",
          "data": {
            "text/plain": [
              "[('CAN', 32538),\n",
              " ('ARG', 12520),\n",
              " ('HUN', 10860),\n",
              " ('MEX', 6124),\n",
              " ('RSA', 3788),\n",
              " ('BLR', 3580),\n",
              " ('LTU', 1535),\n",
              " ('MGL', 1460),\n",
              " ('USA', 1342),\n",
              " ('AZE', 1218)]"
            ]
          },
          "metadata": {},
          "execution_count": 57
        }
      ]
    },
    {
      "cell_type": "markdown",
      "source": [
        "## Dataframes "
      ],
      "metadata": {
        "id": "DLbpyDjYfCEE"
      }
    },
    {
      "cell_type": "code",
      "source": [
        "# load libraries for dataframes\n",
        "from pyspark import SparkContext\n",
        "from pyspark.sql import SparkSession, SQLContext\n",
        "\n",
        "from pyspark.sql.types import StructType, StructField, IntegerType, StringType, FloatType, Row"
      ],
      "metadata": {
        "id": "K0zaC5cufCHU"
      },
      "execution_count": null,
      "outputs": []
    },
    {
      "cell_type": "code",
      "source": [
        "# Create a initialator\n",
        "sqlContext = SQLContext(sc)"
      ],
      "metadata": {
        "id": "fjwa1NvafCKk"
      },
      "execution_count": null,
      "outputs": []
    },
    {
      "cell_type": "code",
      "source": [
        "juegoSchema = StructType([\n",
        "                          StructField(\"juego_id\", IntegerType(), False),\n",
        "                          StructField(\"annio\", StringType(), False),\n",
        "                          StructField(\"temporada\", StringType(), False),\n",
        "                          StructField(\"ciudad\", StringType(), False),\n",
        "])\n",
        "\n",
        "\n",
        "juegoDF = sqlContext.read.schema(juegoSchema).option(\"header\",\"true\").csv(path+'juegos.csv')"
      ],
      "metadata": {
        "id": "mxrE-ZQELeqd"
      },
      "execution_count": null,
      "outputs": []
    },
    {
      "cell_type": "code",
      "source": [
        "juegoDF.show(5)"
      ],
      "metadata": {
        "id": "_yoEyUZ5fCNk",
        "colab": {
          "base_uri": "https://localhost:8080/"
        },
        "outputId": "580923aa-3f5e-4079-845c-f4646acaf919"
      },
      "execution_count": null,
      "outputs": [
        {
          "output_type": "stream",
          "name": "stdout",
          "text": [
            "+--------+-----------+---------+------+\n",
            "|juego_id|      annio|temporada|ciudad|\n",
            "+--------+-----------+---------+------+\n",
            "|       1|1896 Verano|     1896|Verano|\n",
            "|       2|1900 Verano|     1900|Verano|\n",
            "|       3|1904 Verano|     1904|Verano|\n",
            "|       4|1906 Verano|     1906|Verano|\n",
            "|       5|1908 Verano|     1908|Verano|\n",
            "+--------+-----------+---------+------+\n",
            "only showing top 5 rows\n",
            "\n"
          ]
        }
      ]
    },
    {
      "cell_type": "markdown",
      "source": [
        "### Inferencia types"
      ],
      "metadata": {
        "id": "mjQKKTFPOYE_"
      }
    },
    {
      "cell_type": "code",
      "source": [
        "def eliminarEncabezado(indice, iterador):\n",
        "  return iter(list(iterador)[1:])"
      ],
      "metadata": {
        "id": "8ibNpEjwOg3x"
      },
      "execution_count": null,
      "outputs": []
    },
    {
      "cell_type": "code",
      "source": [
        "# remove heads of RDDs\n",
        "deportistaOlimpicoRDD = deportistaOlimpicoRDD.mapPartitionsWithIndex(eliminarEncabezado)"
      ],
      "metadata": {
        "id": "zgkSlTk1fCUU"
      },
      "execution_count": null,
      "outputs": []
    },
    {
      "cell_type": "code",
      "source": [
        "deportistaOlimpicoRDD.take(5)"
      ],
      "metadata": {
        "id": "KGdn0ddmO4Lc",
        "colab": {
          "base_uri": "https://localhost:8080/"
        },
        "outputId": "8f8583f7-aff4-444d-b64b-d6f2ab93096c"
      },
      "execution_count": null,
      "outputs": [
        {
          "output_type": "execute_result",
          "data": {
            "text/plain": [
              "[['1', 'A Dijiang', '1', '24', '180', '80', '199'],\n",
              " ['2', 'A Lamusi', '1', '23', '170', '60', '199'],\n",
              " ['3', 'Gunnar Nielsen Aaby', '1', '24', '0', '0', '273'],\n",
              " ['4', 'Edgar Lindenau Aabye', '1', '34', '0', '0', '278'],\n",
              " ['5', 'Christine Jacoba Aaftink', '2', '21', '185', '82', '705']]"
            ]
          },
          "metadata": {},
          "execution_count": 65
        }
      ]
    },
    {
      "cell_type": "code",
      "source": [
        "deportistaOlimpicoRDD = deportistaOlimpicoRDD.map(lambda x: (\n",
        "    int(x[0]),\n",
        "    x[1],\n",
        "    int(x[2]),\n",
        "    int(x[3]),\n",
        "    int(x[4]),\n",
        "    float(x[5]),\n",
        "    int(x[6]),\n",
        "\n",
        "))"
      ],
      "metadata": {
        "id": "dg01IMXVPUVV"
      },
      "execution_count": null,
      "outputs": []
    },
    {
      "cell_type": "code",
      "source": [
        "# create Schemas\n",
        "deportista_schema = StructType([\n",
        "          StructField(\"deportista_id\",IntegerType(),False),\n",
        "          StructField(\"nombre\",StringType(),False),\n",
        "          StructField(\"genero\",IntegerType(),False),\n",
        "          StructField(\"edad\",IntegerType(),False),\n",
        "          StructField(\"altura\",IntegerType(),False),\n",
        "          StructField(\"peso\",FloatType(),False),\n",
        "          StructField(\"equipo_id\",IntegerType(),False)\n",
        "])\n",
        "\n",
        "\n",
        "deporte_schema = StructType([\n",
        "          StructField(\"deporte_id\",IntegerType(),False),\n",
        "          StructField(\"nombre\", StringType(),False)\n",
        "])\n",
        "\n",
        "juego_schema = StructType([\n",
        "          StructField(\"juego_id\",IntegerType(),False),\n",
        "          StructField(\"annio\",StringType(),False),\n",
        "          StructField(\"temporada\",StringType(),False),\n",
        "          StructField(\"ciudad\",StringType(),False)\n",
        "])\n",
        "\n",
        "evento_schema = StructType([\n",
        "          StructField(\"evento_id\",IntegerType(),False),\n",
        "          StructField(\"evento\",StringType(),False),\n",
        "          StructField(\"deporte_id\",IntegerType(),False)\n",
        "])\n",
        "\n",
        "paises_schema = StructType([\n",
        "          StructField(\"id\",IntegerType(),False),\n",
        "          StructField(\"equipo\",StringType(),False),\n",
        "          StructField(\"sigla\",StringType(),False)\n",
        "])\n",
        "\n",
        "resultados_schema = StructType([\n",
        "          StructField(\"resultado_id\",IntegerType(),False),\n",
        "          StructField(\"medalla\",StringType(),False),\n",
        "          StructField(\"deportista_id\",IntegerType(),False),\n",
        "          StructField(\"juego_id\",IntegerType(),False),\n",
        "          StructField(\"evento_id\",IntegerType(),False)\n",
        "])"
      ],
      "metadata": {
        "id": "a_bCls5dfCXV"
      },
      "execution_count": null,
      "outputs": []
    },
    {
      "cell_type": "code",
      "source": [
        "# creation of dataframes\n",
        "deportistaDF = sqlContext.createDataFrame(deportistaOlimpicoRDD,deportista_schema)\n",
        "deporteDF = sqlContext.read.schema(deporte_schema).option(\"header\",\"true\").csv(path+'deporte.csv')\n",
        "# juegoDF = sqlContext.read.schema(juego_schema).option(\"header\",\"true\").csv(path+'juego.csv')\n",
        "eventoDF = sqlContext.read.schema(evento_schema).option(\"header\",\"true\").csv(path+'evento.csv')\n",
        "paisesDF = sqlContext.read.schema(paises_schema).option(\"header\",\"true\").csv(path+'paises.csv')\n",
        "resultadosDF = sqlContext.read.schema(resultados_schema).option(\"header\",\"true\").csv(path+'resultados.csv')"
      ],
      "metadata": {
        "id": "7PT2eLSSfCak"
      },
      "execution_count": null,
      "outputs": []
    },
    {
      "cell_type": "markdown",
      "source": [
        "## Operations on DataFrames"
      ],
      "metadata": {
        "id": "EckVA4-2bOTT"
      }
    },
    {
      "cell_type": "code",
      "source": [
        "# conocer el schema\n",
        "deporteDF.printSchema()"
      ],
      "metadata": {
        "id": "pri2dp6ZfCd2",
        "colab": {
          "base_uri": "https://localhost:8080/"
        },
        "outputId": "1dd13b93-b390-4958-85e6-cc8d5ab5596e"
      },
      "execution_count": null,
      "outputs": [
        {
          "output_type": "stream",
          "name": "stdout",
          "text": [
            "root\n",
            " |-- deporte_id: integer (nullable = true)\n",
            " |-- nombre: string (nullable = true)\n",
            "\n"
          ]
        }
      ]
    },
    {
      "cell_type": "code",
      "source": [
        "# rename column\n",
        "deportistaDF = deportistaDF.withColumnRenamed(\"genero\", \"sexo\")"
      ],
      "metadata": {
        "id": "4D5D82HPfChV"
      },
      "execution_count": null,
      "outputs": []
    },
    {
      "cell_type": "code",
      "source": [
        "# delete column\n",
        "deportistaDF = deportistaDF.drop(\"altura\")"
      ],
      "metadata": {
        "id": "k6rv-hmifCkn"
      },
      "execution_count": null,
      "outputs": []
    },
    {
      "cell_type": "code",
      "source": [
        "from pyspark.sql.functions import sum as _sum\n",
        "from pyspark.sql.functions import avg as _avg\n",
        "from pyspark.sql.functions import *\n",
        "deportistaDF=deportistaDF.select(\"deportista_id\", \"nombre\", col(\"edad\").alias(\"edadAlJugar\"), \"equipo_id\")"
      ],
      "metadata": {
        "id": "pJNRcf0EfCnV"
      },
      "execution_count": null,
      "outputs": []
    },
    {
      "cell_type": "code",
      "source": [
        "deportistaDF.show(5)"
      ],
      "metadata": {
        "id": "v-SBIFFTfCrV",
        "colab": {
          "base_uri": "https://localhost:8080/"
        },
        "outputId": "39c8c5ce-88c7-4ef4-ff7d-73b93d50ec71"
      },
      "execution_count": null,
      "outputs": [
        {
          "output_type": "stream",
          "name": "stdout",
          "text": [
            "+-------------+--------------------+-----------+---------+\n",
            "|deportista_id|              nombre|edadAlJugar|equipo_id|\n",
            "+-------------+--------------------+-----------+---------+\n",
            "|            1|           A Dijiang|         24|      199|\n",
            "|            2|            A Lamusi|         23|      199|\n",
            "|            3| Gunnar Nielsen Aaby|         24|      273|\n",
            "|            4|Edgar Lindenau Aabye|         34|      278|\n",
            "|            5|Christine Jacoba ...|         21|      705|\n",
            "+-------------+--------------------+-----------+---------+\n",
            "only showing top 5 rows\n",
            "\n"
          ]
        }
      ]
    },
    {
      "cell_type": "code",
      "source": [
        "deportistaDF = deportistaDF.filter((deportistaDF.edadAlJugar != 0))"
      ],
      "metadata": {
        "id": "HydVCzbbfCuk"
      },
      "execution_count": null,
      "outputs": []
    },
    {
      "cell_type": "code",
      "source": [
        "deportistaDF.sort(\"edadAlJugar\").show(5)"
      ],
      "metadata": {
        "id": "BjXRGf-IfCyI",
        "colab": {
          "base_uri": "https://localhost:8080/"
        },
        "outputId": "6ecc0306-c059-4aa1-cf39-fc849cf5d941"
      },
      "execution_count": null,
      "outputs": [
        {
          "output_type": "stream",
          "name": "stdout",
          "text": [
            "+-------------+--------------------+-----------+---------+\n",
            "|deportista_id|              nombre|edadAlJugar|equipo_id|\n",
            "+-------------+--------------------+-----------+---------+\n",
            "|        71691|  Dimitrios Loundras|         10|      333|\n",
            "|        52070|        Etsuko Inada|         11|      514|\n",
            "|        40129|    Luigina Giavotti|         11|      507|\n",
            "|        37333|Carlos Bienvenido...|         11|      982|\n",
            "|        47618|Sonja Henie Toppi...|         11|      742|\n",
            "+-------------+--------------------+-----------+---------+\n",
            "only showing top 5 rows\n",
            "\n"
          ]
        }
      ]
    },
    {
      "cell_type": "markdown",
      "source": [
        "## Joins"
      ],
      "metadata": {
        "id": "LMUW_iIz6sO2"
      }
    },
    {
      "cell_type": "code",
      "source": [
        "deportistaDF.printSchema()"
      ],
      "metadata": {
        "id": "WvoBOu3bfC1U",
        "colab": {
          "base_uri": "https://localhost:8080/"
        },
        "outputId": "d726539c-c59f-4e8c-eb11-8e6e61cdd1b4"
      },
      "execution_count": null,
      "outputs": [
        {
          "output_type": "stream",
          "name": "stdout",
          "text": [
            "root\n",
            " |-- deportista_id: integer (nullable = false)\n",
            " |-- nombre: string (nullable = false)\n",
            " |-- edadAlJugar: integer (nullable = false)\n",
            " |-- equipo_id: integer (nullable = false)\n",
            "\n"
          ]
        }
      ]
    },
    {
      "cell_type": "code",
      "source": [
        "resultadosDF.printSchema()"
      ],
      "metadata": {
        "id": "0vev9y8afC4q",
        "colab": {
          "base_uri": "https://localhost:8080/"
        },
        "outputId": "942deea7-a454-42da-b30e-043c592ee0d8"
      },
      "execution_count": null,
      "outputs": [
        {
          "output_type": "stream",
          "name": "stdout",
          "text": [
            "root\n",
            " |-- resultado_id: integer (nullable = true)\n",
            " |-- medalla: string (nullable = true)\n",
            " |-- deportista_id: integer (nullable = true)\n",
            " |-- juego_id: integer (nullable = true)\n",
            " |-- evento_id: integer (nullable = true)\n",
            "\n"
          ]
        }
      ]
    },
    {
      "cell_type": "code",
      "source": [
        "deporteDF.printSchema()"
      ],
      "metadata": {
        "id": "c-hLKxsLfC70",
        "colab": {
          "base_uri": "https://localhost:8080/"
        },
        "outputId": "49f05269-8d1b-4aba-b340-06fa72d9af40"
      },
      "execution_count": null,
      "outputs": [
        {
          "output_type": "stream",
          "name": "stdout",
          "text": [
            "root\n",
            " |-- deporte_id: integer (nullable = true)\n",
            " |-- nombre: string (nullable = true)\n",
            "\n"
          ]
        }
      ]
    },
    {
      "cell_type": "code",
      "source": [
        "deportistaDF.join(\n",
        "    resultadosDF,\n",
        "    deportistaDF.deportista_id == resultadosDF.deportista_id,\n",
        "    'left'\n",
        "    ).join(\n",
        "    juegoDF,\n",
        "    juegoDF.juego_id == resultadosDF.juego_id,\n",
        "    \"left\"\n",
        ").join(\n",
        "    deporteDF,\n",
        "    deporteDF.deporte_id == resultadosDF.evento_id,\n",
        "    \"left\"        \n",
        ").select(\n",
        "    deportistaDF.nombre, col(\"edadAlJugar\").alias(\"Edad al jugar\"),\n",
        "    \"medalla\", col(\"annio\").alias(\"Año de juego\"),\n",
        "    deporteDF.nombre.alias(\"Nombre de disciplina\")\n",
        ")"
      ],
      "metadata": {
        "id": "5bQGiu4-fC_U",
        "colab": {
          "base_uri": "https://localhost:8080/"
        },
        "outputId": "b9cd37cc-46cb-4f2e-f572-3cc85b3f9f8a"
      },
      "execution_count": null,
      "outputs": [
        {
          "output_type": "execute_result",
          "data": {
            "text/plain": [
              "DataFrame[nombre: string, Edad al jugar: int, medalla: string, Año de juego: string, Nombre de disciplina: string]"
            ]
          },
          "metadata": {},
          "execution_count": 96
        }
      ]
    },
    {
      "cell_type": "code",
      "source": [
        "paisesDF.printSchema()"
      ],
      "metadata": {
        "colab": {
          "base_uri": "https://localhost:8080/"
        },
        "id": "v6rW9GIZGUZJ",
        "outputId": "f7067509-afc4-4bee-8dfd-34c4e9d4b236"
      },
      "execution_count": null,
      "outputs": [
        {
          "output_type": "stream",
          "name": "stdout",
          "text": [
            "root\n",
            " |-- id: integer (nullable = true)\n",
            " |-- equipo: string (nullable = true)\n",
            " |-- sigla: string (nullable = true)\n",
            "\n"
          ]
        }
      ]
    },
    {
      "cell_type": "code",
      "source": [
        "resultadosDF.join(deportistaDF,\n",
        "                 deportistaDF.deportista_id == resultadosDF.deportista_id,\n",
        "                 \"left\").join(\n",
        "                 paisesDF, paisesDF.id == deportistaDF.equipo_id\n",
        "                 ).select(\"medalla\", \"equipo\",\"sigla\").where(resultadosDF.medalla != \"NA\").show(20)"
      ],
      "metadata": {
        "id": "jTHnF8lefDCl",
        "colab": {
          "base_uri": "https://localhost:8080/"
        },
        "outputId": "328a4d8d-5ed3-410c-b447-34f26b8d0a44"
      },
      "execution_count": null,
      "outputs": [
        {
          "output_type": "stream",
          "name": "stdout",
          "text": [
            "+-------+--------------+-----+\n",
            "|medalla|        equipo|sigla|\n",
            "+-------+--------------+-----+\n",
            "|   Gold|Denmark/Sweden|  SWE|\n",
            "| Bronze|       Finland|  FIN|\n",
            "| Bronze|       Finland|  FIN|\n",
            "| Bronze|       Finland|  FIN|\n",
            "| Bronze|       Finland|  FIN|\n",
            "|   Gold|       Finland|  FIN|\n",
            "|   Gold|       Finland|  FIN|\n",
            "|   Gold|       Finland|  FIN|\n",
            "| Bronze|       Finland|  FIN|\n",
            "|   Gold|        Norway|  NOR|\n",
            "|   Gold|        Norway|  NOR|\n",
            "|   Gold|        Norway|  NOR|\n",
            "| Silver|        Norway|  NOR|\n",
            "| Bronze|        Norway|  NOR|\n",
            "| Silver|        Norway|  NOR|\n",
            "| Bronze|        Norway|  NOR|\n",
            "|   Gold|        Norway|  NOR|\n",
            "|   Gold|        Norway|  NOR|\n",
            "| Silver|        Norway|  NOR|\n",
            "| Bronze|   Netherlands|  NED|\n",
            "+-------+--------------+-----+\n",
            "only showing top 20 rows\n",
            "\n"
          ]
        }
      ]
    },
    {
      "cell_type": "code",
      "source": [
        "resultadosDF.filter(resultadosDF.medalla != \"NA\").join(\n",
        "    deportistaDF, deportistaDF.deportista_id == resultadosDF.deportista_id, \"left\"\n",
        ").join(\n",
        "    paisesDF, paisesDF.id == deportistaDF.equipo_id, \"left\"\n",
        ").select(\"medalla\", \"equipo\", \"sigla\").sort(col(\"sigla\").desc())"
      ],
      "metadata": {
        "id": "jxnnroabfDGF",
        "colab": {
          "base_uri": "https://localhost:8080/"
        },
        "outputId": "f151102c-2307-4641-eac5-ce74a11f57a9"
      },
      "execution_count": null,
      "outputs": [
        {
          "output_type": "execute_result",
          "data": {
            "text/plain": [
              "DataFrame[medalla: string, equipo: string, sigla: string]"
            ]
          },
          "metadata": {},
          "execution_count": 101
        }
      ]
    },
    {
      "cell_type": "markdown",
      "source": [
        "## Agrupaciones"
      ],
      "metadata": {
        "id": "P5Gmj_F-SUce"
      }
    },
    {
      "cell_type": "code",
      "source": [
        "medallistaXAnnio = deportistaDF.join(\n",
        "        resultadosDF, \n",
        "        deportistaDF.deportista_id == resultadosDF.deportista_id, \n",
        "        \"left\"\n",
        "    ).join(\n",
        "        juegoDF, \n",
        "        juegoDF.juego_id == resultadosDF.juego_id, \n",
        "        \"left\"\n",
        "    ).join(\n",
        "        paisesDF, \n",
        "        deportistaDF.equipo_id == paisesDF.id, \n",
        "        \"left\"\n",
        "    ).join(\n",
        "        eventoDF, \n",
        "        eventoDF.evento_id == resultadosDF.evento_id, \n",
        "        \"left\"\n",
        "    ).join(\n",
        "        deporteDF, \n",
        "        eventoDF.deporte_id == deporteDF.deporte_id, \n",
        "        \"left\"\n",
        "    ).select(\n",
        "        \"sigla\",\n",
        "        \"annio\",\n",
        "        \"medalla\",\n",
        "        eventoDF.evento.alias(\"Nombre subdisciplina\"),\n",
        "        deporteDF.nombre.alias(\"Nombre disciplina\"),\n",
        "        deportistaDF.nombre    \n",
        "    )"
      ],
      "metadata": {
        "id": "PkpPHI_dNkdO"
      },
      "execution_count": null,
      "outputs": []
    },
    {
      "cell_type": "code",
      "source": [
        "medallistaXAnnio.show(5)"
      ],
      "metadata": {
        "id": "q1Wv6NBYfDJk",
        "colab": {
          "base_uri": "https://localhost:8080/"
        },
        "outputId": "1ba2822c-2a16-416e-8755-1a1fb90a90fb"
      },
      "execution_count": null,
      "outputs": [
        {
          "output_type": "stream",
          "name": "stdout",
          "text": [
            "+-----+-------------+-------+--------------------+-----------------+--------------------+\n",
            "|sigla|        annio|medalla|Nombre subdisciplina|Nombre disciplina|              nombre|\n",
            "+-----+-------------+-------+--------------------+-----------------+--------------------+\n",
            "|  CHN|  1992 Verano|     NA|Basketball Men's ...|       Basketball|           A Dijiang|\n",
            "|  CHN|  2012 Verano|     NA|Judo Men's Extra-...|             Judo|            A Lamusi|\n",
            "|  DEN|  1920 Verano|     NA|Football Men's Fo...|         Football| Gunnar Nielsen Aaby|\n",
            "|  SWE|  1900 Verano|   Gold|Tug-Of-War Men's ...|       Tug-Of-War|Edgar Lindenau Aabye|\n",
            "|  NED|1994 Invierno|     NA|Speed Skating Wom...|    Speed Skating|Christine Jacoba ...|\n",
            "+-----+-------------+-------+--------------------+-----------------+--------------------+\n",
            "only showing top 5 rows\n",
            "\n"
          ]
        }
      ]
    },
    {
      "cell_type": "code",
      "source": [
        "medallistaXAnnio2 = medallistaXAnnio.filter(medallistaXAnnio.medalla != \"NA\").sort(\n",
        "    \"annio\"\n",
        ").groupBy(\"sigla\", \"annio\", \"Nombre subdisciplina\").count()"
      ],
      "metadata": {
        "id": "IQ_Lf2sNfDM0"
      },
      "execution_count": null,
      "outputs": []
    },
    {
      "cell_type": "code",
      "source": [
        "medallistaXAnnio2.printSchema()"
      ],
      "metadata": {
        "id": "pGz1_9N7RDZB",
        "colab": {
          "base_uri": "https://localhost:8080/"
        },
        "outputId": "335b037d-a976-4c8f-f575-491ea865d2a3"
      },
      "execution_count": null,
      "outputs": [
        {
          "output_type": "stream",
          "name": "stdout",
          "text": [
            "root\n",
            " |-- sigla: string (nullable = true)\n",
            " |-- annio: string (nullable = true)\n",
            " |-- Nombre subdisciplina: string (nullable = true)\n",
            " |-- count: long (nullable = false)\n",
            "\n"
          ]
        }
      ]
    },
    {
      "cell_type": "code",
      "source": [
        "medallistaXAnnio2.groupBy(\"sigla\", \"annio\").agg(_sum(\"count\").alias(\"Total de medallas\"),\n",
        "                                                _avg(\"count\").alias(\"Medallas promedio\")).show()"
      ],
      "metadata": {
        "id": "Q1udCDveRDcP",
        "colab": {
          "base_uri": "https://localhost:8080/"
        },
        "outputId": "6b156f7f-e311-47bf-861a-89f3fa6e6f46"
      },
      "execution_count": null,
      "outputs": [
        {
          "output_type": "stream",
          "name": "stdout",
          "text": [
            "+-----+-------------+-----------------+------------------+\n",
            "|sigla|        annio|Total de medallas| Medallas promedio|\n",
            "+-----+-------------+-----------------+------------------+\n",
            "|  NED|1992 Invierno|                4|1.3333333333333333|\n",
            "|  BEL|  2000 Verano|                7|               1.4|\n",
            "|  MAS|  2012 Verano|                2|               1.0|\n",
            "|  MGL|  2008 Verano|                5|              1.25|\n",
            "|  SWE|  1976 Verano|               10|               2.0|\n",
            "|  SUI|2014 Invierno|               29|3.2222222222222223|\n",
            "|  ETH|  2004 Verano|                7|              1.75|\n",
            "|  AUT|  1928 Verano|                5|              1.25|\n",
            "|  SYR|  1984 Verano|                1|               1.0|\n",
            "|  ITA|  1996 Verano|               69| 2.225806451612903|\n",
            "|  THA|  2008 Verano|                4|               1.0|\n",
            "|  URS|1984 Invierno|               56|               2.8|\n",
            "|  DEN|  1896 Verano|                6|               1.0|\n",
            "|  GRN|  2016 Verano|                1|               1.0|\n",
            "|  DEN|  1956 Verano|                6|               1.5|\n",
            "|  ARG|  2004 Verano|               49| 8.166666666666666|\n",
            "|  CHI|  1988 Verano|                1|               1.0|\n",
            "|  GBR|  1980 Verano|               49|              2.45|\n",
            "|  ITA|  1972 Verano|               25|            1.5625|\n",
            "|  UGA|  1980 Verano|                1|               1.0|\n",
            "+-----+-------------+-----------------+------------------+\n",
            "only showing top 20 rows\n",
            "\n"
          ]
        }
      ]
    },
    {
      "cell_type": "markdown",
      "source": [
        "## SQL"
      ],
      "metadata": {
        "id": "F4-yptp5SY1e"
      }
    },
    {
      "cell_type": "code",
      "source": [
        "resultadosDF.createOrReplaceTempView(\"resultado\")\n",
        "deportistaDF.createOrReplaceTempView(\"deportista\")\n",
        "paisesDF.createOrReplaceTempView(\"paises\")"
      ],
      "metadata": {
        "id": "uzWmiJxRRDfl"
      },
      "execution_count": null,
      "outputs": []
    },
    {
      "cell_type": "code",
      "source": [
        "sqlContext.sql(\"\"\"SELECT medalla, equipo, sigla\n",
        "                    FROM resultado r\n",
        "                    JOIN deportista d\n",
        "                      ON r.deportista_id = d.deportista_id\n",
        "                    JOIN paises p\n",
        "                     ON p.id = d.equipo_id\n",
        "                  WHERE medalla <> \"NA\"\n",
        "                  ORDER BY sigla DESC\n",
        "\"\"\").show()"
      ],
      "metadata": {
        "id": "xKWWYViGTwvn",
        "colab": {
          "base_uri": "https://localhost:8080/"
        },
        "outputId": "9af046b5-eb74-4a38-9ce3-e9d73d782b99"
      },
      "execution_count": null,
      "outputs": [
        {
          "output_type": "stream",
          "name": "stdout",
          "text": [
            "+-------+--------+-----+\n",
            "|medalla|  equipo|sigla|\n",
            "+-------+--------+-----+\n",
            "|   Gold|Zimbabwe|  ZIM|\n",
            "|   Gold|Zimbabwe|  ZIM|\n",
            "| Silver|Zimbabwe|  ZIM|\n",
            "|   Gold|Zimbabwe|  ZIM|\n",
            "|   Gold|Zimbabwe|  ZIM|\n",
            "| Silver|Zimbabwe|  ZIM|\n",
            "| Bronze|Zimbabwe|  ZIM|\n",
            "|   Gold|Zimbabwe|  ZIM|\n",
            "|   Gold|Zimbabwe|  ZIM|\n",
            "|   Gold|Zimbabwe|  ZIM|\n",
            "|   Gold|Zimbabwe|  ZIM|\n",
            "|   Gold|Zimbabwe|  ZIM|\n",
            "|   Gold|Zimbabwe|  ZIM|\n",
            "|   Gold|Zimbabwe|  ZIM|\n",
            "|   Gold|Zimbabwe|  ZIM|\n",
            "|   Gold|Zimbabwe|  ZIM|\n",
            "| Silver|Zimbabwe|  ZIM|\n",
            "| Silver|Zimbabwe|  ZIM|\n",
            "|   Gold|Zimbabwe|  ZIM|\n",
            "|   Gold|Zimbabwe|  ZIM|\n",
            "+-------+--------+-----+\n",
            "only showing top 20 rows\n",
            "\n"
          ]
        }
      ]
    },
    {
      "cell_type": "code",
      "source": [
        "sqlContext.sql(\"\"\"\n",
        "                SELECT DISTINCT medalla, equipo, sigla\n",
        "                FROM resultado r\n",
        "                JOIN deportista d\n",
        "                ON r.deportista_id = d.deportista_id\n",
        "                JOIN paises p\n",
        "                ON p.id = d.equipo_id\n",
        "                WHERE medalla <> 'NA'\n",
        "                ORDER BY sigla DESC\n",
        "                \"\"\").show()"
      ],
      "metadata": {
        "id": "nNw6XZnxRDif",
        "colab": {
          "base_uri": "https://localhost:8080/"
        },
        "outputId": "c97a922f-07a1-4242-9623-b9f44d58459f"
      },
      "execution_count": null,
      "outputs": [
        {
          "output_type": "stream",
          "name": "stdout",
          "text": [
            "+-------+--------------------+-----+\n",
            "|medalla|              equipo|sigla|\n",
            "+-------+--------------------+-----+\n",
            "| Silver|            Zimbabwe|  ZIM|\n",
            "| Bronze|            Zimbabwe|  ZIM|\n",
            "|   Gold|            Zimbabwe|  ZIM|\n",
            "| Silver|              Zambia|  ZAM|\n",
            "|   Gold|          Yugoslavia|  YUG|\n",
            "| Silver|          Yugoslavia|  YUG|\n",
            "| Bronze|          Yugoslavia|  YUG|\n",
            "| Bronze|West Indies Feder...|  WIF|\n",
            "| Silver|             Vietnam|  VIE|\n",
            "|   Gold|             Vietnam|  VIE|\n",
            "|   Gold|           Venezuela|  VEN|\n",
            "| Bronze|           Venezuela|  VEN|\n",
            "| Silver|           Venezuela|  VEN|\n",
            "| Silver|          Uzbekistan|  UZB|\n",
            "|   Gold|          Uzbekistan|  UZB|\n",
            "| Bronze|          Uzbekistan|  UZB|\n",
            "|   Gold|New York Athletic...|  USA|\n",
            "| Bronze|New York Athletic...|  USA|\n",
            "|   Gold|            Minotaur|  USA|\n",
            "|   Gold|            Kathleen|  USA|\n",
            "+-------+--------------------+-----+\n",
            "only showing top 20 rows\n",
            "\n"
          ]
        }
      ]
    },
    {
      "cell_type": "code",
      "source": [
        "sqlContext.sql(\"\"\"\n",
        "    SELECT \n",
        "        medalla,\n",
        "        equipo,\n",
        "        sigla,\n",
        "        COUNT(medalla) AS total_medalla\n",
        "    FROM resultado r\n",
        "    JOIN deportista d\n",
        "    ON r.deportista_id = d.deportista_id\n",
        "    JOIN paises p\n",
        "    ON p.id = d.equipo_id\n",
        "    WHERE medalla <> 'NA'\n",
        "    GROUP BY medalla, equipo, sigla\n",
        "    ORDER BY sigla DESC\n",
        "\"\"\").show(10)\n"
      ],
      "metadata": {
        "id": "KvpZsJruRDly",
        "colab": {
          "base_uri": "https://localhost:8080/"
        },
        "outputId": "ace08200-dd09-416a-8881-33b26e07b0cf"
      },
      "execution_count": null,
      "outputs": [
        {
          "output_type": "stream",
          "name": "stdout",
          "text": [
            "+-------+--------------------+-----+-------------+\n",
            "|medalla|              equipo|sigla|total_medalla|\n",
            "+-------+--------------------+-----+-------------+\n",
            "| Bronze|            Zimbabwe|  ZIM|            1|\n",
            "| Silver|            Zimbabwe|  ZIM|            4|\n",
            "|   Gold|            Zimbabwe|  ZIM|           17|\n",
            "| Silver|              Zambia|  ZAM|            1|\n",
            "| Bronze|          Yugoslavia|  YUG|          100|\n",
            "| Silver|          Yugoslavia|  YUG|          180|\n",
            "|   Gold|          Yugoslavia|  YUG|          136|\n",
            "| Bronze|West Indies Feder...|  WIF|            1|\n",
            "| Silver|             Vietnam|  VIE|            3|\n",
            "|   Gold|             Vietnam|  VIE|            1|\n",
            "+-------+--------------------+-----+-------------+\n",
            "only showing top 10 rows\n",
            "\n"
          ]
        }
      ]
    },
    {
      "cell_type": "code",
      "source": [
        "sqlContext.sql(\"\"\"\n",
        "    SELECT \n",
        "        'Paises con Melladas'AS estatus,\n",
        "        COUNT(DISTINCT sigla) AS total_medalla\n",
        "    FROM resultado r\n",
        "    JOIN deportista d\n",
        "    ON r.deportista_id = d.deportista_id\n",
        "    JOIN paises p\n",
        "    ON p.equipo_id = d.equipo_id\n",
        "    WHERE medalla <> 'NA'\n",
        "    \n",
        "    UNION ALL\n",
        "    \n",
        "    SELECT \n",
        "        'Paises Participantes'AS estatus,\n",
        "        COUNT(DISTINCT sigla) AS total_medalla\n",
        "    FROM resultado r\n",
        "    JOIN deportista d\n",
        "    ON r.deportista_id = d.deportista_id\n",
        "    JOIN paises p\n",
        "    ON p.id = d.equipo_id\n",
        "\"\"\").show(10)"
      ],
      "metadata": {
        "id": "xTN1_wujRDov"
      },
      "execution_count": null,
      "outputs": []
    },
    {
      "cell_type": "markdown",
      "source": [
        "## UDF"
      ],
      "metadata": {
        "id": "oJHaOSIcVnA9"
      }
    },
    {
      "cell_type": "code",
      "source": [
        "deportistaError = sc.textFile(path+\"deportistaError.csv\").map(\n",
        "    lambda x: x.split(\",\")\n",
        ")"
      ],
      "metadata": {
        "id": "poC-WdU7RDsY"
      },
      "execution_count": null,
      "outputs": []
    },
    {
      "cell_type": "code",
      "source": [
        "deportistaError=deportistaError.mapPartitionsWithIndex(eliminarEncabezado)"
      ],
      "metadata": {
        "id": "6ewQLoqhRDvP"
      },
      "execution_count": null,
      "outputs": []
    },
    {
      "cell_type": "code",
      "source": [
        "deportistaError = deportistaError.map(lambda x:(\n",
        "    x[0],\n",
        "    x[1],\n",
        "    x[2],\n",
        "    x[3],\n",
        "    x[4],\n",
        "    x[5],\n",
        "    x[6]\n",
        "))"
      ],
      "metadata": {
        "id": "0gRY6_wfRDyG"
      },
      "execution_count": null,
      "outputs": []
    },
    {
      "cell_type": "code",
      "source": [
        "deportistaError_schema = StructType([\n",
        "          StructField(\"deportista_id\",StringType(),False),\n",
        "          StructField(\"nombre\",StringType(),False),\n",
        "          StructField(\"genero\",StringType(),False),\n",
        "          StructField(\"edad\",StringType(),False),\n",
        "          StructField(\"altura\",StringType(),False),\n",
        "          StructField(\"peso\",StringType(),False),\n",
        "          StructField(\"equipo_id\",StringType(),False)\n",
        "])"
      ],
      "metadata": {
        "id": "ywyOaXVwXWO7"
      },
      "execution_count": null,
      "outputs": []
    },
    {
      "cell_type": "code",
      "source": [
        "deportistaErrorDF = sqlContext.createDataFrame(deportistaError, deportistaError_schema)"
      ],
      "metadata": {
        "id": "kAvL4nXMXWXb"
      },
      "execution_count": null,
      "outputs": []
    },
    {
      "cell_type": "code",
      "source": [
        "deportistaErrorDF.show()"
      ],
      "metadata": {
        "id": "N7Iy5Q1pXWa1",
        "colab": {
          "base_uri": "https://localhost:8080/"
        },
        "outputId": "987830a0-5f17-4399-8d29-ee97ca3412d7"
      },
      "execution_count": null,
      "outputs": [
        {
          "output_type": "stream",
          "name": "stdout",
          "text": [
            "+-------------+--------------------+------+----+------+----+---------+\n",
            "|deportista_id|              nombre|genero|edad|altura|peso|equipo_id|\n",
            "+-------------+--------------------+------+----+------+----+---------+\n",
            "|            1|           A Dijiang|     1|  24|   180|  80|      199|\n",
            "|            2|            A Lamusi|     1|  23|   170|  60|      199|\n",
            "|            3| Gunnar Nielsen Aaby|     1|  24|      |    |      273|\n",
            "|            4|Edgar Lindenau Aabye|     1|  34|      |    |      278|\n",
            "|            5|Christine Jacoba ...|     2|  21|   185|  82|      705|\n",
            "|            6|     Per Knut Aaland|     1|  31|   188|  75|     1096|\n",
            "|            7|        John Aalberg|     1|  31|   183|  72|     1096|\n",
            "|            8|\"Cornelia \"\"Cor\"\"...|     2|  18|   168|    |      705|\n",
            "|            9|    Antti Sami Aalto|     1|  26|   186|  96|      350|\n",
            "|           10|\"Einar Ferdinand ...|     1|  26|      |    |      350|\n",
            "|           11|  Jorma Ilmari Aalto|     1|  22|   182|76.5|      350|\n",
            "|           12|   Jyri Tapani Aalto|     1|  31|   172|  70|      350|\n",
            "|           13|  Minna Maarit Aalto|     2|  30|   159|55.5|      350|\n",
            "|           14|Pirjo Hannele Aal...|     2|  32|   171|  65|      350|\n",
            "|           15|Arvo Ossian Aaltonen|     1|  22|      |    |      350|\n",
            "|           16|Juhamatti Tapio A...|     1|  28|   184|  85|      350|\n",
            "|           17|Paavo Johannes Aa...|     1|  28|   175|  64|      350|\n",
            "|           18|Timo Antero Aaltonen|     1|  31|   189| 130|      350|\n",
            "|           19|Win Valdemar Aalt...|     1|  54|      |    |      350|\n",
            "|           20|  Kjetil Andr Aamodt|     1|  20|   176|  85|      742|\n",
            "+-------------+--------------------+------+----+------+----+---------+\n",
            "only showing top 20 rows\n",
            "\n"
          ]
        }
      ]
    },
    {
      "cell_type": "code",
      "source": [
        "from pyspark.sql.functions import udf\n",
        "\n",
        "def conversionEnteros(valor):\n",
        "  return int(valor) if len(valor) > 0 else None\n",
        "\n",
        "\n",
        "conversionEnteros_udf = udf(lambda z : conversionEnteros(z), IntegerType())\n",
        "sqlContext.udf.register(\"conversionEnteros_udf\", conversionEnteros_udf)"
      ],
      "metadata": {
        "id": "jGBJLsWDXWd1",
        "colab": {
          "base_uri": "https://localhost:8080/"
        },
        "outputId": "f8cb3920-a9c2-4313-b738-09b8e381483b"
      },
      "execution_count": null,
      "outputs": [
        {
          "output_type": "execute_result",
          "data": {
            "text/plain": [
              "<function __main__.<lambda>>"
            ]
          },
          "metadata": {},
          "execution_count": 159
        }
      ]
    },
    {
      "cell_type": "code",
      "source": [
        "deportistaErrorDF.select(conversionEnteros_udf(\"altura\").alias(\"alturaUDF\")).show()"
      ],
      "metadata": {
        "id": "5zSzxYCMXWgn",
        "colab": {
          "base_uri": "https://localhost:8080/"
        },
        "outputId": "e755dec9-c776-4a89-8979-db8d7acea881"
      },
      "execution_count": null,
      "outputs": [
        {
          "output_type": "stream",
          "name": "stdout",
          "text": [
            "+---------+\n",
            "|alturaUDF|\n",
            "+---------+\n",
            "|      180|\n",
            "|      170|\n",
            "|     null|\n",
            "|     null|\n",
            "|      185|\n",
            "|      188|\n",
            "|      183|\n",
            "|      168|\n",
            "|      186|\n",
            "|     null|\n",
            "|      182|\n",
            "|      172|\n",
            "|      159|\n",
            "|      171|\n",
            "|     null|\n",
            "|      184|\n",
            "|      175|\n",
            "|      189|\n",
            "|     null|\n",
            "|      176|\n",
            "+---------+\n",
            "only showing top 20 rows\n",
            "\n"
          ]
        }
      ]
    },
    {
      "cell_type": "markdown",
      "source": [
        "## Perisistencia y replicacion"
      ],
      "metadata": {
        "id": "UewTygJRZ1Va"
      }
    },
    {
      "cell_type": "code",
      "source": [
        "from pyspark.storagelevel import StorageLevel"
      ],
      "metadata": {
        "id": "XWjZpzEEZ1Yo"
      },
      "execution_count": null,
      "outputs": []
    },
    {
      "cell_type": "code",
      "source": [
        "medallistaXAnnio.is_cached"
      ],
      "metadata": {
        "id": "xCj-_ZuJZ1b-",
        "colab": {
          "base_uri": "https://localhost:8080/"
        },
        "outputId": "c0c24509-7457-4317-ce8b-2e5e072f5107"
      },
      "execution_count": null,
      "outputs": [
        {
          "output_type": "execute_result",
          "data": {
            "text/plain": [
              "False"
            ]
          },
          "metadata": {},
          "execution_count": 162
        }
      ]
    },
    {
      "cell_type": "code",
      "source": [
        "medallistaXAnnio.rdd.cache()"
      ],
      "metadata": {
        "id": "tihGmVHoZ1e7",
        "colab": {
          "base_uri": "https://localhost:8080/"
        },
        "outputId": "bd3444cf-3598-4b06-bb3b-e2ba221b997c"
      },
      "execution_count": null,
      "outputs": [
        {
          "output_type": "execute_result",
          "data": {
            "text/plain": [
              "MapPartitionsRDD[311] at javaToPython at NativeMethodAccessorImpl.java:0"
            ]
          },
          "metadata": {},
          "execution_count": 163
        }
      ]
    },
    {
      "cell_type": "code",
      "source": [
        "medallistaXAnnio.rdd.getStorageLevel()"
      ],
      "metadata": {
        "id": "dub-sUR5Z1iL",
        "colab": {
          "base_uri": "https://localhost:8080/"
        },
        "outputId": "5715497e-9fd2-4379-9b96-6c17cebd8825"
      },
      "execution_count": null,
      "outputs": [
        {
          "output_type": "execute_result",
          "data": {
            "text/plain": [
              "StorageLevel(False, True, False, False, 1)"
            ]
          },
          "metadata": {},
          "execution_count": 164
        }
      ]
    },
    {
      "cell_type": "code",
      "source": [
        "medallistaXAnnio.rdd.unpersist()"
      ],
      "metadata": {
        "id": "Ou9l981GZ1lY",
        "colab": {
          "base_uri": "https://localhost:8080/"
        },
        "outputId": "a1d28a96-9a95-48f9-a815-e7a85613839d"
      },
      "execution_count": null,
      "outputs": [
        {
          "output_type": "execute_result",
          "data": {
            "text/plain": [
              "MapPartitionsRDD[311] at javaToPython at NativeMethodAccessorImpl.java:0"
            ]
          },
          "metadata": {},
          "execution_count": 165
        }
      ]
    },
    {
      "cell_type": "code",
      "source": [
        "medallistaXAnnio.rdd.persist(StorageLevel.MEMORY_AND_DISK_2)"
      ],
      "metadata": {
        "id": "aTd5sXFpZ1oZ",
        "colab": {
          "base_uri": "https://localhost:8080/"
        },
        "outputId": "9e667c66-5dd3-46d3-fd4b-ae2781490acf"
      },
      "execution_count": null,
      "outputs": [
        {
          "output_type": "execute_result",
          "data": {
            "text/plain": [
              "MapPartitionsRDD[311] at javaToPython at NativeMethodAccessorImpl.java:0"
            ]
          },
          "metadata": {},
          "execution_count": 168
        }
      ]
    },
    {
      "cell_type": "code",
      "source": [
        "medallistaXAnnio.rdd.getStorageLevel()"
      ],
      "metadata": {
        "id": "yB_DRO4BZ1r6",
        "colab": {
          "base_uri": "https://localhost:8080/"
        },
        "outputId": "59f85cae-bec0-495b-8ea3-aa82fd94cf39"
      },
      "execution_count": null,
      "outputs": [
        {
          "output_type": "execute_result",
          "data": {
            "text/plain": [
              "StorageLevel(True, True, False, False, 2)"
            ]
          },
          "metadata": {},
          "execution_count": 169
        }
      ]
    },
    {
      "cell_type": "code",
      "source": [
        "StorageLevel.MEMORY_AND_DISK_3 = StorageLevel(True, True, False, False, 3)"
      ],
      "metadata": {
        "id": "k84w1QY_Z1u-"
      },
      "execution_count": null,
      "outputs": []
    },
    {
      "cell_type": "code",
      "source": [
        "medallistaXAnnio.rdd.unpersist()"
      ],
      "metadata": {
        "id": "U5FQlBTEZ1yY",
        "colab": {
          "base_uri": "https://localhost:8080/"
        },
        "outputId": "7eb8ceff-3db1-4d4c-eb63-cddf8663624a"
      },
      "execution_count": null,
      "outputs": [
        {
          "output_type": "execute_result",
          "data": {
            "text/plain": [
              "MapPartitionsRDD[311] at javaToPython at NativeMethodAccessorImpl.java:0"
            ]
          },
          "metadata": {},
          "execution_count": 171
        }
      ]
    },
    {
      "cell_type": "code",
      "source": [
        "medallistaXAnnio.rdd.persist(StorageLevel.MEMORY_AND_DISK_3)\n"
      ],
      "metadata": {
        "id": "r4XqxpW2Z11f",
        "colab": {
          "base_uri": "https://localhost:8080/"
        },
        "outputId": "dabab59e-3e1d-44fe-aab6-0ad17b88b05f"
      },
      "execution_count": null,
      "outputs": [
        {
          "output_type": "execute_result",
          "data": {
            "text/plain": [
              "MapPartitionsRDD[311] at javaToPython at NativeMethodAccessorImpl.java:0"
            ]
          },
          "metadata": {},
          "execution_count": 173
        }
      ]
    },
    {
      "cell_type": "markdown",
      "source": [
        "## Particionado"
      ],
      "metadata": {
        "id": "vJc1Cn2XgLSM"
      }
    },
    {
      "cell_type": "code",
      "source": [
        "from pyspark.sql import SparkSession\n",
        "\n",
        "spark = SparkSession.builder.appName(\"Particionado\").master(\"local[5]\").getOrCreate()"
      ],
      "metadata": {
        "id": "PM9LF4_UZ14o"
      },
      "execution_count": null,
      "outputs": []
    },
    {
      "cell_type": "code",
      "source": [
        "df = spark.range(0, 20)\n",
        "df.rdd.getNumPartitions()"
      ],
      "metadata": {
        "id": "jI2kGpDZZ18c",
        "colab": {
          "base_uri": "https://localhost:8080/"
        },
        "outputId": "be92dd3e-2923-4142-c335-ca3627b41540"
      },
      "execution_count": null,
      "outputs": [
        {
          "output_type": "execute_result",
          "data": {
            "text/plain": [
              "1"
            ]
          },
          "metadata": {},
          "execution_count": 175
        }
      ]
    },
    {
      "cell_type": "code",
      "source": [
        "rdd2 = spark.sparkContext.parallelize((0,20), 10)\n",
        "rdd2.getNumPartitions"
      ],
      "metadata": {
        "id": "nBGuXo-dZ1_I",
        "colab": {
          "base_uri": "https://localhost:8080/"
        },
        "outputId": "c383238f-daeb-48bc-d0f7-2e8cf2d52e19"
      },
      "execution_count": null,
      "outputs": [
        {
          "output_type": "execute_result",
          "data": {
            "text/plain": [
              "<bound method RDD.getNumPartitions of ParallelCollectionRDD[318] at readRDDFromFile at PythonRDD.scala:274>"
            ]
          },
          "metadata": {},
          "execution_count": 176
        }
      ]
    },
    {
      "cell_type": "code",
      "source": [
        "rddDesdeArchivo = spark.sparkContext.textFile(path+\"deporte.csv\", 10)"
      ],
      "metadata": {
        "id": "asJZqj3xZ2Cr"
      },
      "execution_count": null,
      "outputs": []
    },
    {
      "cell_type": "code",
      "source": [
        "rddDesdeArchivo.getNumPartitions()"
      ],
      "metadata": {
        "id": "z6CamPi6iJqr",
        "colab": {
          "base_uri": "https://localhost:8080/"
        },
        "outputId": "683b59b0-b254-4b3d-bd6c-eb9bf8c2bdc5"
      },
      "execution_count": null,
      "outputs": [
        {
          "output_type": "execute_result",
          "data": {
            "text/plain": [
              "10"
            ]
          },
          "metadata": {},
          "execution_count": 178
        }
      ]
    },
    {
      "cell_type": "code",
      "source": [
        "rddDesdeArchivo.saveAsTextFile(\"/content/drive/My Drive/Colab Notebooks/Spark/output/\")"
      ],
      "metadata": {
        "id": "QzkyPjXniXpz"
      },
      "execution_count": null,
      "outputs": []
    },
    {
      "cell_type": "code",
      "source": [
        "!ls /content/drive/My Drive/Colab Notebooks/Spark/output/"
      ],
      "metadata": {
        "id": "noops4qKiePG",
        "colab": {
          "base_uri": "https://localhost:8080/"
        },
        "outputId": "f46a0df9-3989-4fac-ae71-55f44f77c3e6"
      },
      "execution_count": null,
      "outputs": [
        {
          "output_type": "stream",
          "name": "stdout",
          "text": [
            "ls: cannot access '/content/drive/My': No such file or directory\n",
            "ls: cannot access 'Drive/Colab': No such file or directory\n",
            "ls: cannot access 'Notebooks/Spark/output/': No such file or directory\n"
          ]
        }
      ]
    },
    {
      "cell_type": "code",
      "source": [
        "rdd3 = spark.sparkContext.wholeTextFiles(\"/content/drive/My Drive/Colab Notebooks/Spark/output/*\")"
      ],
      "metadata": {
        "id": "EbGPdGlAixdn"
      },
      "execution_count": null,
      "outputs": []
    },
    {
      "cell_type": "code",
      "source": [
        "rdd3.take(3)"
      ],
      "metadata": {
        "id": "VkmTDeyzixhC",
        "colab": {
          "base_uri": "https://localhost:8080/"
        },
        "outputId": "b21137e9-206e-4dde-c996-41af9edf59c1"
      },
      "execution_count": null,
      "outputs": [
        {
          "output_type": "execute_result",
          "data": {
            "text/plain": [
              "[('file:/content/drive/My Drive/Colab Notebooks/Spark/output/part-00000',\n",
              "  'deporte_id,deporte\\n1,Basketball\\n2,Judo\\n3,Football\\n4,Tug-Of-War\\n5,Speed Skating\\n6,Cross Country Skiing\\n'),\n",
              " ('file:/content/drive/My Drive/Colab Notebooks/Spark/output/part-00001',\n",
              "  '7,Athletics\\n8,Ice Hockey\\n9,Swimming\\n10,Badminton\\n11,Sailing\\n12,Biathlon\\n13,Gymnastics\\n14,Art Competitions\\n'),\n",
              " ('file:/content/drive/My Drive/Colab Notebooks/Spark/output/part-00002',\n",
              "  '15,Alpine Skiing\\n16,Handball\\n17,Weightlifting\\n18,Wrestling\\n19,Luge\\n20,Water Polo\\n')]"
            ]
          },
          "metadata": {},
          "execution_count": 182
        }
      ]
    },
    {
      "cell_type": "code",
      "source": [
        "lista = rdd3.mapValues(lambda x:x.split()).collect()"
      ],
      "metadata": {
        "id": "WI_NGkZMixjy"
      },
      "execution_count": null,
      "outputs": []
    },
    {
      "cell_type": "code",
      "source": [
        "lista = [l[0] for l in lista]\n",
        "lista.sort()"
      ],
      "metadata": {
        "id": "2DQ7t25rj6Ej"
      },
      "execution_count": null,
      "outputs": []
    },
    {
      "cell_type": "code",
      "source": [
        "rdd4 = spark.sparkContext.textFile(\",\".join(lista), 10).map(lambda x:x.split(\",\"))"
      ],
      "metadata": {
        "id": "3jaUnhFXj6H-"
      },
      "execution_count": null,
      "outputs": []
    },
    {
      "cell_type": "code",
      "source": [
        "rdd4.take(4)"
      ],
      "metadata": {
        "id": "lgLaYiN_j6LE",
        "colab": {
          "base_uri": "https://localhost:8080/"
        },
        "outputId": "bb19855a-ec53-4d34-ad78-eb64f6f65e91"
      },
      "execution_count": null,
      "outputs": [
        {
          "output_type": "execute_result",
          "data": {
            "text/plain": [
              "[['deporte_id', 'deporte'],\n",
              " ['1', 'Basketball'],\n",
              " ['2', 'Judo'],\n",
              " ['3', 'Football']]"
            ]
          },
          "metadata": {},
          "execution_count": 186
        }
      ]
    }
  ]
}